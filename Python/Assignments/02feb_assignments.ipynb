{
 "cells": [
  {
   "cell_type": "markdown",
   "id": "1af056d4-e4f5-4741-95b9-dd5538d770bf",
   "metadata": {},
   "source": [
    "Q1. Explain with an example each when to use a for loop and a while loop."
   ]
  },
  {
   "cell_type": "markdown",
   "id": "7cd4432a-fce7-4270-8156-0a3d87f07f05",
   "metadata": {},
   "source": [
    "Answer:\n",
    "For Loop:\n",
    "We use for loop when we have to execute repetedly some block of code on according to problem.In for loop we know how much time the code will execute and according to that we write for loop code block.\n",
    "Here's an example of for loop\n",
    "Printing the first 10 natural nuber\n",
    "\n",
    "for i in range(1,11):\n",
    "    print(i)\n",
    "    \n",
    "\n",
    "\n",
    "\n",
    "while loop:\n",
    "We use while loop when we have to execute repetedly some block of code until the given condition is true and basically while loop is used for when we don't know how much time to iterate the code.\n",
    "\n",
    "For example the above question how many times a given number is divisible by 3.In this we dont know how much time the given number is divisible by 3 .That's why we use while loop.\n",
    "\n",
    "The Code -> \n",
    "\n",
    "number=int(input('enter any number'))\n",
    "check=number\n",
    "count=0\n",
    "while check>=10 :\n",
    "    if check%3==0 :\n",
    "        count=count+1\n",
    "        check=check/3\n",
    "    else :\n",
    "        break\n",
    "print(count)"
   ]
  },
  {
   "cell_type": "markdown",
   "id": "c5bc649b-88cc-4ce1-8b64-491af76e36e1",
   "metadata": {},
   "source": [
    "Q2.Write a python program to print the sum and product of the first 10 natural numbers using for\n",
    "and while loop."
   ]
  },
  {
   "cell_type": "code",
   "execution_count": 4,
   "id": "ec4aa2f8-0ed9-454f-9137-b0a72724f7e5",
   "metadata": {},
   "outputs": [
    {
     "name": "stdout",
     "output_type": "stream",
     "text": [
      "sum and product of first 10 natural number using for loop is 55 and 3628800\n"
     ]
    }
   ],
   "source": [
    "#for loop\n",
    "sum=0\n",
    "product=1\n",
    "for i in range(1,11):\n",
    "    sum+=i\n",
    "    product*=i\n",
    "print('sum and product of first 10 natural number using for loop is',sum,'and',product)\n",
    "    "
   ]
  },
  {
   "cell_type": "code",
   "execution_count": null,
   "id": "47fd9f9e-3295-4c09-9204-4d97b35b4690",
   "metadata": {},
   "outputs": [],
   "source": [
    "#while loop\\\n",
    "sum=0\n",
    "product=1\n",
    "i=1\n",
    "while i<=10:\n",
    "    sum+=i\n",
    "    product*=i\n",
    "    i+=1\n",
    "print('sum and product of first 10 natural number using while loop is',sum,'and',product)"
   ]
  },
  {
   "cell_type": "markdown",
   "id": "1973c42b-e30e-4ae9-bdbe-744c95abe1d8",
   "metadata": {},
   "source": [
    "Q3. Create a python program to compute the electricity bill for a household.\n",
    "The per-unit charges in rupees are as follows: For the first 100 units, the user will be charged Rs. 4.5 per\n",
    "unit, for the next 100 units, the user will be charged Rs. 6 per unit, and for the next 100 units, the user will\n",
    "be charged Rs. 10 per unit, After 300 units and above the user will be charged Rs. 20 per unit.\n",
    "\n",
    "You are required to take the units of electricity consumed in a month from the user as input."
   ]
  },
  {
   "cell_type": "code",
   "execution_count": 14,
   "id": "1abc1081-d35a-42d4-8591-ce6a132dcbd6",
   "metadata": {},
   "outputs": [
    {
     "name": "stdin",
     "output_type": "stream",
     "text": [
      "Enter the units of electricity consumed in a month 889\n"
     ]
    },
    {
     "name": "stdout",
     "output_type": "stream",
     "text": [
      "Your electricity bill is Rs 17780\n"
     ]
    }
   ],
   "source": [
    "unit=int(input('Enter the units of electricity consumed in a month'))\n",
    "if unit>0:\n",
    "    if unit<=100:\n",
    "        print('Your electricity bill is Rs',unit*4.5)\n",
    "    elif unit<=200:\n",
    "        print('Your electricity bill is Rs',unit*6)\n",
    "    elif unit<=300:\n",
    "        print('Your electricity bill is Rs',unit*10)\n",
    "    else:\n",
    "        print('Your electricity bill is Rs',unit*20)\n",
    "else:\n",
    "    print('invalid input')\n"
   ]
  },
  {
   "cell_type": "markdown",
   "id": "7149aee8-c3fc-454a-b044-c632ff4455ac",
   "metadata": {},
   "source": [
    "Q4. Create a list of numbers from 1 to 100. Use for loop and while loop to calculate the cube of each\n",
    "number and if the cube of that number is divisible by 4 or 5 then append that number in a list and print\n",
    "that list."
   ]
  },
  {
   "cell_type": "code",
   "execution_count": 16,
   "id": "284f4e90-4aff-4784-9023-6f68eaf351c8",
   "metadata": {},
   "outputs": [
    {
     "name": "stdout",
     "output_type": "stream",
     "text": [
      "[2, 4, 5, 6, 8, 10, 12, 14, 15, 16, 18, 20, 22, 24, 25, 26, 28, 30, 32, 34, 35, 36, 38, 40, 42, 44, 45, 46, 48, 50, 52, 54, 55, 56, 58, 60, 62, 64, 65, 66, 68, 70, 72, 74, 75, 76, 78, 80, 82, 84, 85, 86, 88, 90, 92, 94, 95, 96, 98, 100]\n"
     ]
    }
   ],
   "source": [
    "# by for loop\n",
    "cubes_divby_4and5=[]\n",
    "for i in range(1,101):\n",
    "    if (i*i*i)%4==0 or (i*i*i)%5==0 :\n",
    "        cubes_divby_4and5.append(i)\n",
    "print(cubes_divby_4and5)"
   ]
  },
  {
   "cell_type": "code",
   "execution_count": 19,
   "id": "f85657c8-62da-4bd1-8392-9a5d456f8fd7",
   "metadata": {},
   "outputs": [
    {
     "name": "stdout",
     "output_type": "stream",
     "text": [
      "[2, 4, 5, 6, 8, 10, 12, 14, 15, 16, 18, 20, 22, 24, 25, 26, 28, 30, 32, 34, 35, 36, 38, 40, 42, 44, 45, 46, 48, 50, 52, 54, 55, 56, 58, 60, 62, 64, 65, 66, 68, 70, 72, 74, 75, 76, 78, 80, 82, 84, 85, 86, 88, 90, 92, 94, 95, 96, 98, 100]\n"
     ]
    }
   ],
   "source": [
    "# by while loop\n",
    "cubes_divby_4and5=[]\n",
    "i=1\n",
    "while i<=100:\n",
    "    if (i*i*i)%4==0 or (i*i*i)%5==0 :\n",
    "        cubes_divby_4and5.append(i)\n",
    "    i+=1\n",
    "print(cubes_divby_4and5)"
   ]
  },
  {
   "cell_type": "markdown",
   "id": "cc63cd67-3160-48c5-b29a-7fad572fe9ee",
   "metadata": {},
   "source": [
    "Q5. Write a program to filter count vowels in the below-given string.\n",
    "string = \"I want to become a data scientist\""
   ]
  },
  {
   "cell_type": "code",
   "execution_count": 49,
   "id": "3acfc0f2-af24-4f03-a8f2-7a33015b23c6",
   "metadata": {},
   "outputs": [
    {
     "name": "stdout",
     "output_type": "stream",
     "text": [
      "12\n"
     ]
    }
   ],
   "source": [
    "string = \"I want to become a data scientist\"\n",
    "count=0\n",
    "for i in string.lower():\n",
    "    \n",
    "    if(i=='a') or(i=='e') or(i=='i') or(i=='o') or(i=='u'):\n",
    "        count+=1\n",
    "print(count)"
   ]
  }
 ],
 "metadata": {
  "kernelspec": {
   "display_name": "Python 3 (ipykernel)",
   "language": "python",
   "name": "python3"
  },
  "language_info": {
   "codemirror_mode": {
    "name": "ipython",
    "version": 3
   },
   "file_extension": ".py",
   "mimetype": "text/x-python",
   "name": "python",
   "nbconvert_exporter": "python",
   "pygments_lexer": "ipython3",
   "version": "3.10.8"
  }
 },
 "nbformat": 4,
 "nbformat_minor": 5
}
