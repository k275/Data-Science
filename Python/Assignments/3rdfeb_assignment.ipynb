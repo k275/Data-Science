{
 "cells": [
  {
   "cell_type": "markdown",
   "id": "31e464f8-b4c7-444b-953b-4782e15fc076",
   "metadata": {},
   "source": [
    "Q1-Answer\n",
    "Def keyword is used to create function in python."
   ]
  },
  {
   "cell_type": "code",
   "execution_count": 5,
   "id": "9eb3f643-7548-4ce0-9d7d-edc926d0ad09",
   "metadata": {},
   "outputs": [],
   "source": [
    "k=[]\n",
    "def odd():\n",
    "    for i in range(1,25):\n",
    "        if i%2!=0 :\n",
    "            k.append(i)\n",
    "    return k"
   ]
  },
  {
   "cell_type": "code",
   "execution_count": 6,
   "id": "ef4b0ea3-2c9d-4f35-bebb-1362b1d7476f",
   "metadata": {},
   "outputs": [
    {
     "data": {
      "text/plain": [
       "[1, 3, 5, 7, 9, 11, 13, 15, 17, 19, 21, 23]"
      ]
     },
     "execution_count": 6,
     "metadata": {},
     "output_type": "execute_result"
    }
   ],
   "source": [
    "odd()"
   ]
  },
  {
   "cell_type": "markdown",
   "id": "cdfbb80b-34a2-4650-bc35-da5fb43b59b4",
   "metadata": {},
   "source": [
    "Q2-Answer\n",
    "*args basically used for no limit of taking argument in functions and **kwargs used for taking keyword and values as arguments with no limit."
   ]
  },
  {
   "cell_type": "code",
   "execution_count": 15,
   "id": "cbe9fe3f-498d-4359-8945-d6dcc04b09c0",
   "metadata": {},
   "outputs": [
    {
     "data": {
      "text/plain": [
       "(1, 2, 3, 4, 5, 6)"
      ]
     },
     "execution_count": 15,
     "metadata": {},
     "output_type": "execute_result"
    }
   ],
   "source": [
    "def l(*args):\n",
    "    return args\n",
    "def m(**kwargs):\n",
    "    return kwargs\n",
    "\n",
    "l(1,2,3,4,5,6)"
   ]
  },
  {
   "cell_type": "code",
   "execution_count": 14,
   "id": "4f0c6960-0fd7-42c5-981d-5656874cdd55",
   "metadata": {},
   "outputs": [
    {
     "data": {
      "text/plain": [
       "{'a': 'pw', 'b': 'skills'}"
      ]
     },
     "execution_count": 14,
     "metadata": {},
     "output_type": "execute_result"
    }
   ],
   "source": [
    "m(a='pw',b='skills')"
   ]
  },
  {
   "cell_type": "markdown",
   "id": "4c9cab0f-c7ac-462b-b54d-85859a52be48",
   "metadata": {},
   "source": [
    "## Q3-Answer\n",
    "Iterator in Python is an object that is used to iterate over iterable objects like lists, tuples, dicts, and sets. The iterator object is initialized using the iter() method. It uses the next() method for iteration. The next method returns the next value for the iterable."
   ]
  },
  {
   "cell_type": "code",
   "execution_count": null,
   "id": "4caedfdc-2577-4ba1-bfc2-a233c19ac09c",
   "metadata": {},
   "outputs": [],
   "source": [
    "l2=[2, 4, 6, 8, 10, 12, 14,16, 18, 20]"
   ]
  },
  {
   "cell_type": "markdown",
   "id": "3619c8e2-57ff-4e09-97e9-2f54a6616c4f",
   "metadata": {},
   "source": [
    "## Q4-Answer\n",
    "A generator is a function that returns an iterator that produces a sequence of values when iterated over. Generators are useful when we want to produce a large sequence of values, but we don't want to store all of them in memory at once.\n",
    "The yield keyword in Python controls the flow of a generator function. This is similar to a return statement used for returning values in Python.\n",
    "\n",
    "Example->\n",
    "\n",
    "def genrtr():\n",
    "    for i in range(2,1000):\n",
    "        for j in range(2,i):\n",
    "            if i%j==0:\n",
    "                break\n",
    "        else :\n",
    "            yield i\n",
    "                \n",
    "test=genrtr()\n",
    "for i in range(20):\n",
    "    print(next(test))"
   ]
  },
  {
   "cell_type": "code",
   "execution_count": null,
   "id": "1821faa7-bb71-445b-96f7-e38e8f01f692",
   "metadata": {},
   "outputs": [
    {
     "name": "stdout",
     "output_type": "stream",
     "text": [
      "2\n",
      "3\n",
      "5\n",
      "7\n",
      "11\n",
      "13\n",
      "17\n",
      "19\n",
      "23\n",
      "29\n",
      "31\n",
      "37\n",
      "41\n",
      "43\n",
      "47\n",
      "53\n",
      "59\n",
      "61\n",
      "67\n",
      "71\n"
     ]
    }
   ],
   "source": [
    "## Q5-Answer\n",
    "def genrtr():\n",
    "    for i in range(2,1000):\n",
    "        for j in range(2,i):\n",
    "            if i%j==0:\n",
    "                break\n",
    "        else :\n",
    "            yield i\n",
    "                \n",
    "test=genrtr()\n",
    "for i in range(20):\n",
    "    print(next(test))"
   ]
  },
  {
   "cell_type": "code",
   "execution_count": 17,
   "id": "2fac842f-d4da-4d16-9493-ca46b84a2b77",
   "metadata": {},
   "outputs": [
    {
     "name": "stdout",
     "output_type": "stream",
     "text": [
      "0\n",
      "1\n",
      "1\n",
      "2\n",
      "3\n",
      "5\n",
      "8\n",
      "13\n",
      "21\n",
      "34\n"
     ]
    }
   ],
   "source": [
    "## Q6.Answer\n",
    "a,b,i=0,1,1\n",
    "while i<=10:\n",
    "    print(a)\n",
    "    c=a+b\n",
    "    a=b\n",
    "    b=c\n",
    "    i+=1"
   ]
  },
  {
   "cell_type": "code",
   "execution_count": 12,
   "id": "43029a74-ec8e-41b5-a01c-7132c5aa2072",
   "metadata": {},
   "outputs": [
    {
     "data": {
      "text/plain": [
       "['p', 'w', 's', 'k', 'i', 'l', 'l', 's']"
      ]
     },
     "execution_count": 12,
     "metadata": {},
     "output_type": "execute_result"
    }
   ],
   "source": [
    "## Q7.Answer\n",
    "strng='pwskills'\n",
    "[i for i in strng]"
   ]
  },
  {
   "cell_type": "code",
   "execution_count": 10,
   "id": "3da947f3-24c4-4d73-8f78-616050df3f4b",
   "metadata": {},
   "outputs": [
    {
     "name": "stdin",
     "output_type": "stream",
     "text": [
      "Enter a value: 454\n"
     ]
    },
    {
     "name": "stdout",
     "output_type": "stream",
     "text": [
      "This value is not a palindrome number!\n"
     ]
    }
   ],
   "source": [
    "## Q8.Answer\n",
    "\n",
    "num = int(input(\"Enter a value:\"))  \n",
    "temp = num  \n",
    "rev = 0  \n",
    "while(num > 0):  \n",
    "    dig = num % 10  \n",
    "    revrev = rev * 10 + dig  \n",
    "    num = num / 10  \n",
    "if(temp == rev):  \n",
    "    print(\"This value is a palindrome number!\")  \n",
    "else:  \n",
    "    print(\"This value is not a palindrome number!\")  "
   ]
  },
  {
   "cell_type": "code",
   "execution_count": 7,
   "id": "54df10e5-b8c7-47fc-a020-772eea63bddd",
   "metadata": {},
   "outputs": [
    {
     "data": {
      "text/plain": [
       "[1,\n",
       " 3,\n",
       " 5,\n",
       " 7,\n",
       " 9,\n",
       " 11,\n",
       " 13,\n",
       " 15,\n",
       " 17,\n",
       " 19,\n",
       " 21,\n",
       " 23,\n",
       " 25,\n",
       " 27,\n",
       " 29,\n",
       " 31,\n",
       " 33,\n",
       " 35,\n",
       " 37,\n",
       " 39,\n",
       " 41,\n",
       " 43,\n",
       " 45,\n",
       " 47,\n",
       " 49,\n",
       " 51,\n",
       " 53,\n",
       " 55,\n",
       " 57,\n",
       " 59,\n",
       " 61,\n",
       " 63,\n",
       " 65,\n",
       " 67,\n",
       " 69,\n",
       " 71,\n",
       " 73,\n",
       " 75,\n",
       " 77,\n",
       " 79,\n",
       " 81,\n",
       " 83,\n",
       " 85,\n",
       " 87,\n",
       " 89,\n",
       " 91,\n",
       " 93,\n",
       " 95,\n",
       " 97,\n",
       " 99]"
      ]
     },
     "execution_count": 7,
     "metadata": {},
     "output_type": "execute_result"
    }
   ],
   "source": [
    "## Q9.Answer\n",
    "\n",
    "l=[i for i in range(1,100)]\n",
    "[i for i in l if i%2!=0]"
   ]
  },
  {
   "cell_type": "code",
   "execution_count": null,
   "id": "67a7c9a4-4d7f-4aa7-8d15-530ac6e072d0",
   "metadata": {},
   "outputs": [],
   "source": []
  }
 ],
 "metadata": {
  "kernelspec": {
   "display_name": "Python 3 (ipykernel)",
   "language": "python",
   "name": "python3"
  },
  "language_info": {
   "codemirror_mode": {
    "name": "ipython",
    "version": 3
   },
   "file_extension": ".py",
   "mimetype": "text/x-python",
   "name": "python",
   "nbconvert_exporter": "python",
   "pygments_lexer": "ipython3",
   "version": "3.10.8"
  }
 },
 "nbformat": 4,
 "nbformat_minor": 5
}
