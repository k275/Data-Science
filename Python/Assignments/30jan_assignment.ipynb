{
 "cells": [
  {
   "cell_type": "raw",
   "id": "dba24f6d-1e7b-4930-b61e-ba5774207b1b",
   "metadata": {},
   "source": [
    "1 Write a program to accept percentage from t h euser and display the grade according to the following criteria:"
   ]
  },
  {
   "cell_type": "code",
   "execution_count": 5,
   "id": "354b2500-ee77-4a90-b53b-711c669cebf3",
   "metadata": {},
   "outputs": [
    {
     "name": "stdin",
     "output_type": "stream",
     "text": [
      "enter your marks -> 88\n"
     ]
    },
    {
     "name": "stdout",
     "output_type": "stream",
     "text": [
      "You have B Grade\n"
     ]
    }
   ],
   "source": [
    "#answer\n",
    "marks=int(input(\"enter your marks ->\"))\n",
    "if marks>90 :\n",
    "    print(\"You have A Grade\")\n",
    "elif marks<=90 or marks>80 :\n",
    "    print(\"You have B Grade\")\n",
    "elif marks<=80 or marks>=60 :\n",
    "    print('You have C Grade')\n",
    "else :\n",
    "    print('You have D Grade')"
   ]
  },
  {
   "cell_type": "raw",
   "id": "2cba4af3-b8c2-4fb5-9f94-e7cc6e951e34",
   "metadata": {},
   "source": [
    "2.Write a program to accept the cost priceof a bike and display the road tax to be paid according to the following criteria:"
   ]
  },
  {
   "cell_type": "code",
   "execution_count": 10,
   "id": "9d3bcfc3-2e4e-4f88-a295-764bf6f58045",
   "metadata": {},
   "outputs": [
    {
     "name": "stdin",
     "output_type": "stream",
     "text": [
      "enter your bike price -> 124000\n"
     ]
    },
    {
     "name": "stdout",
     "output_type": "stream",
     "text": [
      "18600.0 Road Tax to be Paid\n"
     ]
    }
   ],
   "source": [
    "#answer\n",
    "bike_price=int(input(\"enter your bike price ->\"))\n",
    "if bike_price>100000 :\n",
    "    tax=0.15*bike_price\n",
    "    print(tax,\"Road Tax to be Paid\")\n",
    "elif bike_price>=50000 and bike_price<=1000000 :\n",
    "    tax=0.1*bike_price\n",
    "    print(tax,\"Road Tax to be Paid\")\n",
    "elif bike_price<=50000 :\n",
    "    tax=0.05*bike_price\n",
    "    print(tax,\"Road Tax to be Paid\")"
   ]
  },
  {
   "cell_type": "raw",
   "id": "ce044cc8-57a7-486a-8fe0-39104c0c1d78",
   "metadata": {},
   "source": [
    "3.Accept any city from the user and display monuments of the city."
   ]
  },
  {
   "cell_type": "code",
   "execution_count": 28,
   "id": "f44e1fdd-f384-4c1e-a48e-a76b679a17bb",
   "metadata": {
    "tags": []
   },
   "outputs": [
    {
     "name": "stdin",
     "output_type": "stream",
     "text": [
      "enter city number for their monument: 1.Delhi  2.Agra  3.Jaipur  3\n"
     ]
    },
    {
     "name": "stdout",
     "output_type": "stream",
     "text": [
      "Jal mahal\n"
     ]
    }
   ],
   "source": [
    "#answer\n",
    "city=int(input(\"enter city number for their monument: 1.Delhi  2.Agra  3.Jaipur \"))\n",
    "if city==1 :\n",
    "    print(\"Red Fort\")\n",
    "elif city==2 :\n",
    "    print(\"Taj Mahal\")\n",
    "elif city==3 :\n",
    "    print(\"Jal mahal\")\n",
    "else :\n",
    "    print('Invalid Number')"
   ]
  },
  {
   "cell_type": "raw",
   "id": "6c10a190-373c-4b59-b8e1-f6a4c43a2186",
   "metadata": {},
   "source": [
    "4.Check how many times a given number can be divided by 3 before it is less than or equal to 10."
   ]
  },
  {
   "cell_type": "code",
   "execution_count": null,
   "id": "23fb58bc-1950-4569-8da3-74a56667a57b",
   "metadata": {},
   "outputs": [
    {
     "name": "stdin",
     "output_type": "stream",
     "text": [
      "enter any number 243\n"
     ]
    },
    {
     "name": "stdout",
     "output_type": "stream",
     "text": [
      "3\n"
     ]
    }
   ],
   "source": [
    "#answer\n",
    "number=int(input('enter any number'))\n",
    "check=number\n",
    "count=0\n",
    "while check>=10 :\n",
    "    if check%3==0 :\n",
    "        count=count+1\n",
    "        check=check/3\n",
    "    else :\n",
    "        break\n",
    "print(count)"
   ]
  },
  {
   "cell_type": "raw",
   "id": "29cd4389-cc79-4d9f-a732-cf1d6e6b58c6",
   "metadata": {},
   "source": [
    "5. Why and When to Use while Loop in Python give a detailed description with example.\n",
    "\n",
    "Answer:We use while loop when we have to execute repetedly some block of code until the given condition is true and basically while loop is used for when we don't know how much time to iterate the code.\n",
    "\n",
    "For example the above question number 4 in this we dont know how much time the given number is divisible by 3 .That's why we use while loop.\n",
    "\n",
    "The Code -> \n",
    "\n",
    "number=int(input('enter any number'))\n",
    "check=number\n",
    "count=0\n",
    "while check>=10 :\n",
    "    if check%3==0 :\n",
    "        count=count+1\n",
    "        check=check/3\n",
    "    else :\n",
    "        break\n",
    "print(count)"
   ]
  },
  {
   "cell_type": "raw",
   "id": "42fbb7ea-ed32-4be4-99b7-4bfde66c7f73",
   "metadata": {},
   "source": [
    "6.Use nested while loop to print 3 different pattern."
   ]
  },
  {
   "cell_type": "code",
   "execution_count": 22,
   "id": "2cffc26a-3443-46dc-b652-c74d7326bb7b",
   "metadata": {},
   "outputs": [
    {
     "name": "stdout",
     "output_type": "stream",
     "text": [
      "1.\n",
      "* \n",
      "* * \n",
      "* * * \n",
      "* * * * \n",
      "* * * * * \n",
      "\n",
      "2.\n",
      "* * * * * \n",
      "* * * * \n",
      "* * * \n",
      "* * \n",
      "* \n",
      "\n",
      "\n",
      "3.\n",
      "1 \n",
      "1 2 \n",
      "1 2 3 \n",
      "1 2 3 4 \n",
      "1 2 3 4 5 \n"
     ]
    }
   ],
   "source": [
    "#answer\n",
    "#1st Pattern\n",
    "print('1.')\n",
    "i=1\n",
    "while i<=5:\n",
    "    j=1\n",
    "    while j<=i:\n",
    "        print('*',end=\" \")\n",
    "        j+=1\n",
    "    print()\n",
    "    i+=1\n",
    "#2nd Pattern\n",
    "print('\\n2.')\n",
    "i=5\n",
    "while i>=0:\n",
    "    j=1\n",
    "    while j<=i:\n",
    "        print('*',end=\" \")\n",
    "        j+=1\n",
    "    print('')\n",
    "    i-=1\n",
    "#3rd Pattern\n",
    "print('\\n3.')\n",
    "i=1\n",
    "while i<=5:\n",
    "    j=1\n",
    "    while j<=i:\n",
    "        print(j,end=\" \")\n",
    "        j+=1\n",
    "    print('')\n",
    "    i+=1"
   ]
  },
  {
   "cell_type": "raw",
   "id": "05ec4ddf-0b03-4574-ba30-d2a8d405e16a",
   "metadata": {},
   "source": [
    "7.Reverse a while loop to display numbers from 10 to 1."
   ]
  },
  {
   "cell_type": "code",
   "execution_count": 24,
   "id": "c1b3c4df-4105-4166-a966-b573691bd1fd",
   "metadata": {},
   "outputs": [
    {
     "name": "stdout",
     "output_type": "stream",
     "text": [
      "10\n",
      "9\n",
      "8\n",
      "7\n",
      "6\n",
      "5\n",
      "4\n",
      "3\n",
      "2\n",
      "1\n"
     ]
    }
   ],
   "source": [
    "#answer\n",
    "i=10\n",
    "while i>0 :\n",
    "    print(i)\n",
    "    i-=1"
   ]
  },
  {
   "cell_type": "raw",
   "id": "fa2192f6-260b-4cf5-9354-a24e8811f7d4",
   "metadata": {},
   "source": [
    "8.Reverse a while loop to display numbers from 10 to 1"
   ]
  },
  {
   "cell_type": "code",
   "execution_count": 27,
   "id": "f0866346-4713-472b-b74e-40cdb2577c95",
   "metadata": {},
   "outputs": [
    {
     "name": "stdout",
     "output_type": "stream",
     "text": [
      "1\n",
      "2\n",
      "3\n",
      "4\n",
      "5\n",
      "6\n",
      "7\n",
      "8\n",
      "9\n",
      "10\n"
     ]
    }
   ],
   "source": [
    "#answer\n",
    "i=1\n",
    "while i<=10 :\n",
    "    print(i)\n",
    "    i+=1"
   ]
  }
 ],
 "metadata": {
  "kernelspec": {
   "display_name": "Python 3 (ipykernel)",
   "language": "python",
   "name": "python3"
  },
  "language_info": {
   "codemirror_mode": {
    "name": "ipython",
    "version": 3
   },
   "file_extension": ".py",
   "mimetype": "text/x-python",
   "name": "python",
   "nbconvert_exporter": "python",
   "pygments_lexer": "ipython3",
   "version": "3.10.8"
  }
 },
 "nbformat": 4,
 "nbformat_minor": 5
}
