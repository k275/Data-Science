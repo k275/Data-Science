{
 "cells": [
  {
   "cell_type": "markdown",
   "id": "5af377b7-ec61-4cf8-9446-3076906224e6",
   "metadata": {},
   "source": [
    "##Answer-1\n",
    "class:\n",
    "In object-oriented programming, a class is a blueprint for creating objects (a particular data structure), providing initial values for state (member variables or attributes), and implementations of behavior (member functions or methods). The user-defined objects are created using the class keyword.\n",
    "\n",
    "Object:\n",
    "Object means a real-world entity such as a pen, chair, table, computer, watch, etc. Object-Oriented Programming is a methodology or paradigm to design a program using classes and objects. It simplifies software development and maintenance by providing some concepts: Object.\n"
   ]
  },
  {
   "cell_type": "markdown",
   "id": "ad4ae1e5-48f5-45e3-b064-1b92ba384c03",
   "metadata": {},
   "source": [
    "##Answer-2\n",
    "The Four pillers of opp's is \n",
    "1.Inheritence\n",
    "2.encapsulation\n",
    "3.polymorphism\n",
    "4.Abstraction"
   ]
  },
  {
   "cell_type": "markdown",
   "id": "fc809299-729d-4a72-a772-a60ec712f15b",
   "metadata": {},
   "source": [
    "##Answer-3\n",
    "The __init__ method lets the class initialize the object's attributes and serves no other purpose. It is only used within classes.\n",
    "The example of __init__ function is below."
   ]
  },
  {
   "cell_type": "code",
   "execution_count": 1,
   "id": "cba174eb-7665-4100-87fd-5f1077853370",
   "metadata": {},
   "outputs": [
    {
     "data": {
      "text/plain": [
       "'sudh'"
      ]
     },
     "execution_count": 1,
     "metadata": {},
     "output_type": "execute_result"
    }
   ],
   "source": [
    "class person():\n",
    "    def __init__(self,name, age):\n",
    "        self.name=name\n",
    "        self.age=age\n",
    "\n",
    "p1=person('sudh',23)\n",
    "p1.name\n"
   ]
  },
  {
   "cell_type": "markdown",
   "id": "018d55fe-0cd1-4b6f-8ade-24bed508715f",
   "metadata": {},
   "source": [
    "##Answer-4\n",
    "Self is a convention and not a Python keyword . self is parameter in Instance Method and user can use another parameter name in place of it"
   ]
  },
  {
   "cell_type": "code",
   "execution_count": null,
   "id": "9595a93b-6f40-4119-ad61-89d072ffe6ef",
   "metadata": {},
   "outputs": [],
   "source": [
    "##Answer-5\n"
   ]
  }
 ],
 "metadata": {
  "kernelspec": {
   "display_name": "Python 3 (ipykernel)",
   "language": "python",
   "name": "python3"
  },
  "language_info": {
   "codemirror_mode": {
    "name": "ipython",
    "version": 3
   },
   "file_extension": ".py",
   "mimetype": "text/x-python",
   "name": "python",
   "nbconvert_exporter": "python",
   "pygments_lexer": "ipython3",
   "version": "3.10.8"
  }
 },
 "nbformat": 4,
 "nbformat_minor": 5
}
