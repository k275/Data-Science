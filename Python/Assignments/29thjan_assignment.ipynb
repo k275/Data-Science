{
 "cells": [
  {
   "cell_type": "markdown",
   "id": "b28804f5-ffeb-44d8-8144-294662564838",
   "metadata": {},
   "source": [
    "1.Guido van Rossum"
   ]
  },
  {
   "cell_type": "markdown",
   "id": "91a4c05b-f8ba-495c-a6db-8f5344c769f1",
   "metadata": {},
   "source": [
    "2.Python is an interpreted, interactive, object-oriented programming language. It incorporates modules, exceptions, dynamic typing, very high level dynamic data types, and classes. It supports multiple programming paradigms beyond object-oriented programming, such as procedural and functional programming."
   ]
  },
  {
   "cell_type": "markdown",
   "id": "0a66135d-5c4c-44a5-b143-d463b9516bb5",
   "metadata": {},
   "source": [
    "3.Yes, Python is a case-sensitive language."
   ]
  },
  {
   "cell_type": "markdown",
   "id": "735d13c0-1451-4852-93ee-d132fb824ffc",
   "metadata": {},
   "source": [
    "4. .py"
   ]
  },
  {
   "cell_type": "markdown",
   "id": "dafac5f3-7b71-419c-b2aa-663bf32d54ef",
   "metadata": {},
   "source": [
    "5.Python is an interpreted language"
   ]
  },
  {
   "cell_type": "markdown",
   "id": "b60f6cf4-d4a1-46d0-a641-87665986e25b",
   "metadata": {},
   "source": [
    "6.Indentation"
   ]
  },
  {
   "cell_type": "markdown",
   "id": "c74a955f-57e2-4a68-b902-0af76e159e06",
   "metadata": {},
   "source": [
    "7.Hash character(#)"
   ]
  },
  {
   "cell_type": "markdown",
   "id": "bc44fe88-c11e-4c65-bdee-518df63c3c14",
   "metadata": {},
   "source": [
    "8.sys.version"
   ]
  },
  {
   "cell_type": "raw",
   "id": "bc6fe341-4381-46e4-a836-36e8342a7998",
   "metadata": {},
   "source": [
    "9.lambda function"
   ]
  },
  {
   "cell_type": "raw",
   "id": "7917d195-5b96-4504-997e-d5fa311598f4",
   "metadata": {},
   "source": [
    "10.preferred installer program"
   ]
  },
  {
   "cell_type": "raw",
   "id": "070ee708-0bba-46b5-9217-46308052f0e7",
   "metadata": {},
   "source": [
    "11.\n",
    "print( ) function\n",
    "type( ) function\n",
    "input( ) function\n",
    "abs( ) function\n",
    "pow( ) function\n",
    "dir( ) function\n",
    "sorted( ) function\n",
    "max( ) function\n",
    "round( ) function\n",
    "divmod( ) function\n",
    "id( ) function\n",
    "ord( ) function\n",
    "len( ) function\n",
    "sum( ) function\n",
    "help( ) function"
   ]
  },
  {
   "cell_type": "raw",
   "id": "e623666b-546a-4045-86f3-fb3577642c8c",
   "metadata": {},
   "source": [
    "12.An identifier can have a maximum length of 79 characters in Python"
   ]
  },
  {
   "cell_type": "raw",
   "id": "e1a3216a-1cfb-4879-ba75-ae24d3cf7e7c",
   "metadata": {},
   "source": [
    "13.\n",
    "Python is a high-level, interpreted, and general-purpose dynamic programming language that focuses on code readability. It generally has small programs when compared to Java and C. It was founded in 1991 by developer Guido Van Rossum. Python ranks among the most popular and fastest-growing languages in the world. Python is a powerful, flexible, and easy-to-use language. In addition, the python community is very active. It is used in many organizations as it supports multiple programming paradigms. It also performs automatic memory management.\n",
    "\n",
    "Advantages: \n",
    "Presence of third-party modules \n",
    "Extensive support libraries(NumPy for numerical calculations, Pandas for data analytics, etc.) \n",
    "Open source and large active community base \n",
    "Versatile, Easy to read, learn and write\n",
    "User-friendly data structures \n",
    "High-level language \n",
    "Dynamically typed language(No need to mention data type based on the value assigned, it takes data type) \n",
    "Object-Oriented and Procedural  Programming language\n",
    "Portable and Interactive\n",
    "Ideal for prototypes – provide more functionality with less coding\n",
    "Highly Efficient(Python’s clean object-oriented design provides enhanced process control, and the language is equipped with excellent text processing and integration capabilities, as well as its own unit testing framework, which makes it more efficient.)\n",
    "Internet of Things(IoT) Opportunities\n",
    "Interpreted Language\n",
    "Portable across Operating systems "
   ]
  },
  {
   "cell_type": "raw",
   "id": "40049fb3-dbf7-4ad1-953f-c58f7eca228d",
   "metadata": {},
   "source": [
    "14.\n",
    "Memory management in Python involves a private heap containing all Python objects and data structures. The management of this private heap is ensured internally by the Python memory manager."
   ]
  },
  {
   "cell_type": "raw",
   "id": "dae1aed1-e44b-42d4-a02e-1d1fe5bf18df",
   "metadata": {},
   "source": [
    "15.\n",
    "Right-clicking This PC and going to Properties.\n",
    "\n",
    "Clicking on the Advanced system settings in the menu on the left.\n",
    "\n",
    "Clicking on the Environment Variables button o​n the bottom right.\n",
    "\n",
    "In the System variables section, selecting the Path variable and clicking on Edit. The next screen will show all the directories that are currently a part of the PATH variable.\n",
    "\n",
    "Clicking on New and entering Python’s install directory."
   ]
  },
  {
   "cell_type": "raw",
   "id": "0e4bb06f-ffb8-4be5-b013-153140d678d0",
   "metadata": {},
   "source": [
    "16.\n",
    "Each and every object in Python when stored into the memory is being allocated a unique identification number that helps the Python compiler to perform better and utilize memory efficiently. Each object has its own unique identity assigned to it as an integer number which differentiates it from other objects."
   ]
  }
 ],
 "metadata": {
  "kernelspec": {
   "display_name": "Python 3 (ipykernel)",
   "language": "python",
   "name": "python3"
  },
  "language_info": {
   "codemirror_mode": {
    "name": "ipython",
    "version": 3
   },
   "file_extension": ".py",
   "mimetype": "text/x-python",
   "name": "python",
   "nbconvert_exporter": "python",
   "pygments_lexer": "ipython3",
   "version": "3.10.8"
  }
 },
 "nbformat": 4,
 "nbformat_minor": 5
}
